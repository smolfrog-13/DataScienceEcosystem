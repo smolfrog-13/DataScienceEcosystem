{
 "cells": [
  {
   "cell_type": "markdown",
   "id": "876497fd-aa65-4171-bc58-3aefd2a52c85",
   "metadata": {},
   "source": [
    "# H1 Data Science Tools and Ecosystem"
   ]
  },
  {
   "cell_type": "markdown",
   "id": "1709fb3e-cfef-4022-9696-f2dece9e5c53",
   "metadata": {},
   "source": [
    "In this notebook, Data Science Tools and Ecosystems are Summarized "
   ]
  },
  {
   "cell_type": "markdown",
   "id": "4bae626e-15d8-4d42-b00d-a5b96eee53ce",
   "metadata": {},
   "source": [
    "Some of the Popular Languages of that Data Scientists use are: \n",
    "1. Python \n",
    "2. R\n",
    "3. SQL\n",
    "4. Scala\n",
    "5. Java "
   ]
  },
  {
   "cell_type": "markdown",
   "id": "871a9b2a-6a46-4f0f-934b-e3f725e25863",
   "metadata": {},
   "source": [
    "Some of the Commonly used libraries used by Data Scientists include: \n",
    "1. Pandas \n",
    "2. Numpy\n",
    "3. MatplotLib\n",
    "4. Seaborn\n",
    "5. ScikitLearn\n",
    "6. Keras\n",
    "7. Tensorflow\n",
    "8. Pytorch"
   ]
  },
  {
   "cell_type": "markdown",
   "id": "e159393b-46d3-408c-8865-15ff0985f433",
   "metadata": {},
   "source": [
    "|Tools for Data Science |\n",
    "-------------------------\n",
    "| Jupyter | code, output, shell commands and visualization |\n",
    "| Apache Zeppelin | adds additional libraries |\n",
    "| RStudio | exclusively runs R and associated libraries | "
   ]
  },
  {
   "cell_type": "markdown",
   "id": "f4294776-f1f1-49f1-817d-9b5beb18a0f1",
   "metadata": {},
   "source": [
    "### Below are a few examples of evaluation arithmetic expressions in Python "
   ]
  },
  {
   "cell_type": "code",
   "execution_count": 3,
   "id": "e1e1eee2-899f-426d-9934-c8e47b0f853b",
   "metadata": {
    "tags": []
   },
   "outputs": [
    {
     "data": {
      "text/html": [
       "17"
      ],
      "text/latex": [
       "17"
      ],
      "text/markdown": [
       "17"
      ],
      "text/plain": [
       "[1] 17"
      ]
     },
     "metadata": {},
     "output_type": "display_data"
    }
   ],
   "source": [
    "# This is a simple arithmetic expression to multiply then add integers \n",
    "(3*4)+5"
   ]
  },
  {
   "cell_type": "code",
   "execution_count": 4,
   "id": "84600e8c-5d1a-457f-bf36-9c044868445f",
   "metadata": {
    "tags": []
   },
   "outputs": [
    {
     "data": {
      "text/html": [
       "3.33333333333333"
      ],
      "text/latex": [
       "3.33333333333333"
      ],
      "text/markdown": [
       "3.33333333333333"
      ],
      "text/plain": [
       "[1] 3.333333"
      ]
     },
     "metadata": {},
     "output_type": "display_data"
    }
   ],
   "source": [
    "#This will convert 200 minutes to hours by dividing by 60 \n",
    "(200/60) "
   ]
  },
  {
   "cell_type": "markdown",
   "id": "ddf90441-37fb-46e9-8861-12f0c44478e5",
   "metadata": {},
   "source": [
    "**Objectives:**\n",
    "- listing some of the popular languages of Data Science\n",
    "- listing some of the commonly used libraries in Data Science\n",
    "- listing some commonly used tools for Data Science \n"
   ]
  },
  {
   "cell_type": "markdown",
   "id": "ab4b7b50-0c78-476a-aafc-8f1afc3ec207",
   "metadata": {},
   "source": [
    "## Author \n",
    "Madison Bayne "
   ]
  },
  {
   "cell_type": "code",
   "execution_count": null,
   "id": "8d4df679-f473-4668-99fb-2206e5c1d67d",
   "metadata": {},
   "outputs": [],
   "source": []
  }
 ],
 "metadata": {
  "kernelspec": {
   "display_name": "R",
   "language": "R",
   "name": "conda-env-r-r"
  },
  "language_info": {
   "codemirror_mode": "r",
   "file_extension": ".r",
   "mimetype": "text/x-r-source",
   "name": "R",
   "pygments_lexer": "r",
   "version": "3.5.1"
  }
 },
 "nbformat": 4,
 "nbformat_minor": 5
}
